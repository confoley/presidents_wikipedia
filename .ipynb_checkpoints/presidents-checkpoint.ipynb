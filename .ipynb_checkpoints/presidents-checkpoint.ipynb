{
 "cells": [
  {
   "cell_type": "markdown",
   "metadata": {},
   "source": [
    "### Presidents on Wikipedia"
   ]
  },
  {
   "cell_type": "code",
   "execution_count": 1,
   "metadata": {},
   "outputs": [],
   "source": [
    "import wikipedia as wiki\n",
    "import pandas as pd\n",
    "import numpy as np\n",
    "from sklearn.feature_extraction.text import CountVectorizer, TfidfVectorizer\n",
    "import spacy"
   ]
  },
  {
   "cell_type": "code",
   "execution_count": 2,
   "metadata": {},
   "outputs": [],
   "source": [
    "# Set variable to spaCy's NLP tools\n",
    "nlp = spacy.load('en_core_web_sm')"
   ]
  },
  {
   "cell_type": "code",
   "execution_count": 3,
   "metadata": {},
   "outputs": [],
   "source": [
    "presidents = ['Donald Trump','Barack Obama','George W Bush','Bill Clinton', 'George H. W. Bush']"
   ]
  },
  {
   "cell_type": "code",
   "execution_count": 10,
   "metadata": {},
   "outputs": [],
   "source": [
    "# Create DataFrame of entire Wikipedia content for each president\n",
    "df = []\n",
    "\n",
    "for pres in presidents:\n",
    "    p = {}\n",
    "    p['president'] = pres\n",
    "    p['content'] = wiki.page(pres).content\n",
    "    df.append(p)"
   ]
  },
  {
   "cell_type": "code",
   "execution_count": 11,
   "metadata": {},
   "outputs": [],
   "source": [
    "df = pd.DataFrame(df)[['president','content']]"
   ]
  },
  {
   "cell_type": "code",
   "execution_count": 12,
   "metadata": {},
   "outputs": [
    {
     "data": {
      "text/html": [
       "<div>\n",
       "<style scoped>\n",
       "    .dataframe tbody tr th:only-of-type {\n",
       "        vertical-align: middle;\n",
       "    }\n",
       "\n",
       "    .dataframe tbody tr th {\n",
       "        vertical-align: top;\n",
       "    }\n",
       "\n",
       "    .dataframe thead th {\n",
       "        text-align: right;\n",
       "    }\n",
       "</style>\n",
       "<table border=\"1\" class=\"dataframe\">\n",
       "  <thead>\n",
       "    <tr style=\"text-align: right;\">\n",
       "      <th></th>\n",
       "      <th>president</th>\n",
       "      <th>content</th>\n",
       "    </tr>\n",
       "  </thead>\n",
       "  <tbody>\n",
       "    <tr>\n",
       "      <th>0</th>\n",
       "      <td>Donald Trump</td>\n",
       "      <td>Donald John Trump (born June 14, 1946) is the ...</td>\n",
       "    </tr>\n",
       "    <tr>\n",
       "      <th>1</th>\n",
       "      <td>Barack Obama</td>\n",
       "      <td>Barack Hussein Obama II ( ( listen); born Augu...</td>\n",
       "    </tr>\n",
       "    <tr>\n",
       "      <th>2</th>\n",
       "      <td>George W Bush</td>\n",
       "      <td>George Walker Bush (born July 6, 1946) is an A...</td>\n",
       "    </tr>\n",
       "    <tr>\n",
       "      <th>3</th>\n",
       "      <td>Bill Clinton</td>\n",
       "      <td>William Jefferson Clinton (born William Jeffer...</td>\n",
       "    </tr>\n",
       "    <tr>\n",
       "      <th>4</th>\n",
       "      <td>George H. W. Bush</td>\n",
       "      <td>George Herbert Walker Bush (born June 12, 1924...</td>\n",
       "    </tr>\n",
       "  </tbody>\n",
       "</table>\n",
       "</div>"
      ],
      "text/plain": [
       "           president                                            content\n",
       "0       Donald Trump  Donald John Trump (born June 14, 1946) is the ...\n",
       "1       Barack Obama  Barack Hussein Obama II ( ( listen); born Augu...\n",
       "2      George W Bush  George Walker Bush (born July 6, 1946) is an A...\n",
       "3       Bill Clinton  William Jefferson Clinton (born William Jeffer...\n",
       "4  George H. W. Bush  George Herbert Walker Bush (born June 12, 1924..."
      ]
     },
     "execution_count": 12,
     "metadata": {},
     "output_type": "execute_result"
    }
   ],
   "source": [
    "df"
   ]
  },
  {
   "cell_type": "code",
   "execution_count": 43,
   "metadata": {},
   "outputs": [
    {
     "data": {
      "text/plain": [
       "'rescinded the individual insurance mandate provision of the Affordable Care Act and opened the Arcti'"
      ]
     },
     "execution_count": 43,
     "metadata": {},
     "output_type": "execute_result"
    }
   ],
   "source": [
    "df.values[0][1][2000:2100]"
   ]
  },
  {
   "cell_type": "code",
   "execution_count": 15,
   "metadata": {},
   "outputs": [],
   "source": [
    "# df.to_csv('./wikicontent.csv')"
   ]
  },
  {
   "cell_type": "code",
   "execution_count": 16,
   "metadata": {},
   "outputs": [],
   "source": [
    "# Play with spaCy\n",
    "text = wiki.page('Donald Trump').summary"
   ]
  },
  {
   "cell_type": "code",
   "execution_count": 17,
   "metadata": {},
   "outputs": [],
   "source": [
    "doc = nlp(text)"
   ]
  },
  {
   "cell_type": "code",
   "execution_count": 19,
   "metadata": {},
   "outputs": [
    {
     "data": {
      "text/plain": [
       "spacy.tokens.doc.Doc"
      ]
     },
     "execution_count": 19,
     "metadata": {},
     "output_type": "execute_result"
    }
   ],
   "source": [
    "type(doc.doc) # not string format"
   ]
  },
  {
   "cell_type": "code",
   "execution_count": 28,
   "metadata": {},
   "outputs": [
    {
     "data": {
      "text/plain": [
       "[Donald, John, Trump, (, born, June, 14, ,, 1946, )]"
      ]
     },
     "execution_count": 28,
     "metadata": {},
     "output_type": "execute_result"
    }
   ],
   "source": [
    "[doc[n] for n in range(10)] # funny indexing"
   ]
  },
  {
   "cell_type": "code",
   "execution_count": 36,
   "metadata": {},
   "outputs": [
    {
     "data": {
      "text/plain": [
       "str"
      ]
     },
     "execution_count": 36,
     "metadata": {},
     "output_type": "execute_result"
    }
   ],
   "source": [
    "type(doc.text) # string format if I need it"
   ]
  },
  {
   "cell_type": "code",
   "execution_count": 53,
   "metadata": {},
   "outputs": [
    {
     "name": "stdout",
     "output_type": "stream",
     "text": [
      "Donald John Trump PERSON\n",
      "June 14, 1946 DATE\n",
      "45th ORDINAL\n",
      "the United States GPE\n",
      "\n",
      " GPE\n",
      "New York City GPE\n",
      "Queens GPE\n",
      "the Wharton School of the University of Pennsylvania ORG\n",
      "1971 DATE\n",
      "The Trump Organization ORG\n",
      "Queens GPE\n",
      "Brooklyn GPE\n",
      "Manhattan GPE\n",
      "2017 DATE\n",
      "The Art of the Deal WORK_OF_ART\n",
      "Miss USA PERSON\n",
      "Apprentice GPE\n",
      "2003 DATE\n",
      "Forbes ORG\n",
      "$3.1 billion MONEY\n",
      "\n",
      " GPE\n",
      "Trump entered ORG\n",
      "2016 DATE\n",
      "Republican NORP\n",
      "sixteen CARDINAL\n",
      "Democratic NORP\n",
      "Hillary Clinton PERSON\n",
      "first ORDINAL\n",
      "fifth ORDINAL\n",
      "\n",
      " GPE\n",
      "Muslim NORP\n",
      "the Supreme Court ORG\n",
      "third ORDINAL\n",
      "the Affordable Care Act WORK_OF_ART\n",
      "the Arctic Refuge LOC\n",
      "the Dodd-Frank Act FAC\n",
      "2008 DATE\n",
      "America First EVENT\n",
      "U.S. GPE\n",
      "the Trans-Pacific Partnership ORG\n",
      "the Paris Agreement LAW\n",
      "Iran GPE\n",
      "Jerusalem GPE\n",
      "Israel GPE\n",
      "China GPE\n",
      "\n",
      " GPE\n",
      "Trump ORG\n",
      "FBI ORG\n",
      "James Comey PERSON\n",
      "the Justice Department ORG\n",
      "Robert Mueller PERSON\n",
      "Special Counsel PERSON\n",
      "Trump NORP\n",
      "Russian NORP\n"
     ]
    }
   ],
   "source": [
    "for entity in doc.ents:\n",
    "#     if entity.label_ == 'PERSON':\n",
    "        print(entity.text, entity.label_)"
   ]
  },
  {
   "cell_type": "code",
   "execution_count": null,
   "metadata": {},
   "outputs": [],
   "source": []
  }
 ],
 "metadata": {
  "kernelspec": {
   "display_name": "Python [conda env:dsi]",
   "language": "python",
   "name": "conda-env-dsi-py"
  },
  "language_info": {
   "codemirror_mode": {
    "name": "ipython",
    "version": 3
   },
   "file_extension": ".py",
   "mimetype": "text/x-python",
   "name": "python",
   "nbconvert_exporter": "python",
   "pygments_lexer": "ipython3",
   "version": "3.6.5"
  }
 },
 "nbformat": 4,
 "nbformat_minor": 2
}
